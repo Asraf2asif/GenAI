{
 "cells": [
  {
   "cell_type": "markdown",
   "id": "0261c3a0-f7df-4ad0-bf37-bec1f0cd4a68",
   "metadata": {},
   "source": [
    "# Talk 🤷🏻 to your PDF file 📄\n",
    "* ### Unleash the Power of Your PDF: Have a Conversation with Your Digital Documents"
   ]
  },
  {
   "cell_type": "markdown",
   "id": "cdaf1b3f",
   "metadata": {},
   "source": [
    "Recent advances in language models like ChatGPT and GPT-4 have transformed human-tech interaction. Nomic AI's open-source GPT4all empowers developers to tailor and deploy locally, offering customization and flexibility beyond its counterparts. In this evolving landscape, GPT4all stands as a beacon of collaboration and innovation, enhancing the dynamic interplay between humans and technology."
   ]
  },
  {
   "cell_type": "code",
   "execution_count": null,
   "id": "4cf7307f",
   "metadata": {},
   "outputs": [
    {
     "name": "stdout",
     "output_type": "stream",
     "text": [
      "Collecting langchain"
     ]
    },
    {
     "name": "stderr",
     "output_type": "stream",
     "text": [
      "ERROR: pip's dependency resolver does not currently take into account all the packages that are installed. This behaviour is the source of the following dependency conflicts.\n",
      "tensorflow-intel 2.13.0 requires typing-extensions<4.6.0,>=3.6.6, but you have typing-extensions 4.7.1 which is incompatible.\n"
     ]
    },
    {
     "name": "stdout",
     "output_type": "stream",
     "text": [
      "\n",
      "  Obtaining dependency information for langchain from https://files.pythonhosted.org/packages/7a/d0/e99c1f0ba271b8269edd30a9362592ef3aa3499b448924e16f4dd00e58f8/langchain-0.0.267-py3-none-any.whl.metadata\n",
      "  Downloading langchain-0.0.267-py3-none-any.whl.metadata (14 kB)\n",
      "Requirement already satisfied: PyYAML>=5.3 in c:\\users\\i564583\\appdata\\local\\anaconda3\\lib\\site-packages (from langchain) (6.0)\n",
      "Requirement already satisfied: SQLAlchemy<3,>=1.4 in c:\\users\\i564583\\appdata\\local\\anaconda3\\lib\\site-packages (from langchain) (1.4.39)\n",
      "Requirement already satisfied: aiohttp<4.0.0,>=3.8.3 in c:\\users\\i564583\\appdata\\local\\anaconda3\\lib\\site-packages (from langchain) (3.8.5)\n",
      "Requirement already satisfied: async-timeout<5.0.0,>=4.0.0 in c:\\users\\i564583\\appdata\\local\\anaconda3\\lib\\site-packages (from langchain) (4.0.2)\n",
      "Collecting dataclasses-json<0.6.0,>=0.5.7 (from langchain)\n",
      "  Obtaining dependency information for dataclasses-json<0.6.0,>=0.5.7 from https://files.pythonhosted.org/packages/97/5f/e7cc90f36152810cab08b6c9c1125e8bcb9d76f8b3018d101b5f877b386c/dataclasses_json-0.5.14-py3-none-any.whl.metadata\n",
      "  Downloading dataclasses_json-0.5.14-py3-none-any.whl.metadata (22 kB)\n",
      "Collecting langsmith<0.1.0,>=0.0.21 (from langchain)\n",
      "  Obtaining dependency information for langsmith<0.1.0,>=0.0.21 from https://files.pythonhosted.org/packages/3a/51/63ff9bfcb70146b2ff72858765fc32427d127e4e50bb5bd946f78121560d/langsmith-0.0.24-py3-none-any.whl.metadata\n",
      "  Downloading langsmith-0.0.24-py3-none-any.whl.metadata (10 kB)\n",
      "Requirement already satisfied: numexpr<3.0.0,>=2.8.4 in c:\\users\\i564583\\appdata\\local\\anaconda3\\lib\\site-packages (from langchain) (2.8.4)\n",
      "Requirement already satisfied: numpy<2,>=1 in c:\\users\\i564583\\appdata\\local\\anaconda3\\lib\\site-packages (from langchain) (1.23.5)\n",
      "Collecting openapi-schema-pydantic<2.0,>=1.2 (from langchain)\n",
      "  Using cached openapi_schema_pydantic-1.2.4-py3-none-any.whl (90 kB)\n",
      "Collecting pydantic<3,>=1 (from langchain)\n",
      "  Obtaining dependency information for pydantic<3,>=1 from https://files.pythonhosted.org/packages/82/54/ed9a1005c580b619a4c53c324f472c99c165051b22f8885b09be1882aece/pydantic-2.2.0-py3-none-any.whl.metadata\n",
      "  Downloading pydantic-2.2.0-py3-none-any.whl.metadata (145 kB)\n",
      "     ---------------------------------------- 0.0/145.6 kB ? eta -:--:--\n",
      "     -------------------------------------  143.4/145.6 kB 8.3 MB/s eta 0:00:01\n",
      "     -------------------------------------- 145.6/145.6 kB 2.9 MB/s eta 0:00:00\n",
      "Requirement already satisfied: requests<3,>=2 in c:\\users\\i564583\\appdata\\local\\anaconda3\\lib\\site-packages (from langchain) (2.28.1)\n",
      "Collecting tenacity<9.0.0,>=8.1.0 (from langchain)\n",
      "  Obtaining dependency information for tenacity<9.0.0,>=8.1.0 from https://files.pythonhosted.org/packages/f4/f1/990741d5bb2487d529d20a433210ffa136a367751e454214013b441c4575/tenacity-8.2.3-py3-none-any.whl.metadata\n",
      "  Downloading tenacity-8.2.3-py3-none-any.whl.metadata (1.0 kB)\n",
      "Requirement already satisfied: attrs>=17.3.0 in c:\\users\\i564583\\appdata\\local\\anaconda3\\lib\\site-packages (from aiohttp<4.0.0,>=3.8.3->langchain) (22.1.0)\n",
      "Requirement already satisfied: charset-normalizer<4.0,>=2.0 in c:\\users\\i564583\\appdata\\local\\anaconda3\\lib\\site-packages (from aiohttp<4.0.0,>=3.8.3->langchain) (2.0.4)\n",
      "Requirement already satisfied: multidict<7.0,>=4.5 in c:\\users\\i564583\\appdata\\local\\anaconda3\\lib\\site-packages (from aiohttp<4.0.0,>=3.8.3->langchain) (6.0.4)\n",
      "Requirement already satisfied: yarl<2.0,>=1.0 in c:\\users\\i564583\\appdata\\local\\anaconda3\\lib\\site-packages (from aiohttp<4.0.0,>=3.8.3->langchain) (1.9.2)\n",
      "Requirement already satisfied: frozenlist>=1.1.1 in c:\\users\\i564583\\appdata\\local\\anaconda3\\lib\\site-packages (from aiohttp<4.0.0,>=3.8.3->langchain) (1.4.0)\n",
      "Requirement already satisfied: aiosignal>=1.1.2 in c:\\users\\i564583\\appdata\\local\\anaconda3\\lib\\site-packages (from aiohttp<4.0.0,>=3.8.3->langchain) (1.3.1)\n",
      "Collecting marshmallow<4.0.0,>=3.18.0 (from dataclasses-json<0.6.0,>=0.5.7->langchain)\n",
      "  Obtaining dependency information for marshmallow<4.0.0,>=3.18.0 from https://files.pythonhosted.org/packages/ed/3c/cebfdcad015240014ff08b883d1c0c427f2ba45ae8c6572851b6ef136cad/marshmallow-3.20.1-py3-none-any.whl.metadata\n",
      "  Downloading marshmallow-3.20.1-py3-none-any.whl.metadata (7.8 kB)\n",
      "Collecting typing-inspect<1,>=0.4.0 (from dataclasses-json<0.6.0,>=0.5.7->langchain)\n",
      "  Obtaining dependency information for typing-inspect<1,>=0.4.0 from https://files.pythonhosted.org/packages/65/f3/107a22063bf27bdccf2024833d3445f4eea42b2e598abfbd46f6a63b6cb0/typing_inspect-0.9.0-py3-none-any.whl.metadata\n",
      "  Downloading typing_inspect-0.9.0-py3-none-any.whl.metadata (1.5 kB)\n",
      "Collecting annotated-types>=0.4.0 (from pydantic<3,>=1->langchain)\n",
      "  Obtaining dependency information for annotated-types>=0.4.0 from https://files.pythonhosted.org/packages/d8/f0/a2ee543a96cc624c35a9086f39b1ed2aa403c6d355dfe47a11ee5c64a164/annotated_types-0.5.0-py3-none-any.whl.metadata\n",
      "  Downloading annotated_types-0.5.0-py3-none-any.whl.metadata (11 kB)\n",
      "Collecting pydantic-core==2.6.0 (from pydantic<3,>=1->langchain)\n",
      "  Obtaining dependency information for pydantic-core==2.6.0 from https://files.pythonhosted.org/packages/c8/0b/699bd69804f156faeac83b8de6f1ee6b039bcbf41c2390949252ce67559e/pydantic_core-2.6.0-cp310-none-win_amd64.whl.metadata\n",
      "  Downloading pydantic_core-2.6.0-cp310-none-win_amd64.whl.metadata (6.6 kB)\n",
      "Collecting typing-extensions>=4.6.1 (from pydantic<3,>=1->langchain)\n",
      "  Obtaining dependency information for typing-extensions>=4.6.1 from https://files.pythonhosted.org/packages/ec/6b/63cc3df74987c36fe26157ee12e09e8f9db4de771e0f3404263117e75b95/typing_extensions-4.7.1-py3-none-any.whl.metadata\n",
      "  Downloading typing_extensions-4.7.1-py3-none-any.whl.metadata (3.1 kB)\n",
      "Requirement already satisfied: idna<4,>=2.5 in c:\\users\\i564583\\appdata\\local\\anaconda3\\lib\\site-packages (from requests<3,>=2->langchain) (3.4)\n",
      "Requirement already satisfied: urllib3<1.27,>=1.21.1 in c:\\users\\i564583\\appdata\\local\\anaconda3\\lib\\site-packages (from requests<3,>=2->langchain) (1.26.14)\n",
      "Requirement already satisfied: certifi>=2017.4.17 in c:\\users\\i564583\\appdata\\local\\anaconda3\\lib\\site-packages (from requests<3,>=2->langchain) (2022.12.7)\n",
      "Requirement already satisfied: greenlet!=0.4.17 in c:\\users\\i564583\\appdata\\local\\anaconda3\\lib\\site-packages (from SQLAlchemy<3,>=1.4->langchain) (2.0.1)\n",
      "Requirement already satisfied: packaging>=17.0 in c:\\users\\i564583\\appdata\\local\\anaconda3\\lib\\site-packages (from marshmallow<4.0.0,>=3.18.0->dataclasses-json<0.6.0,>=0.5.7->langchain) (22.0)\n",
      "Requirement already satisfied: mypy-extensions>=0.3.0 in c:\\users\\i564583\\appdata\\local\\anaconda3\\lib\\site-packages (from typing-inspect<1,>=0.4.0->dataclasses-json<0.6.0,>=0.5.7->langchain) (0.4.3)\n",
      "Downloading langchain-0.0.267-py3-none-any.whl (1.5 MB)\n",
      "   ---------------------------------------- 0.0/1.5 MB ? eta -:--:--\n",
      "   -------- ------------------------------- 0.3/1.5 MB 19.2 MB/s eta 0:00:01\n",
      "   ------------------ --------------------- 0.7/1.5 MB 8.7 MB/s eta 0:00:01\n",
      "   --------------------- ------------------ 0.8/1.5 MB 6.6 MB/s eta 0:00:01\n",
      "   -------------------------- ------------- 1.0/1.5 MB 5.3 MB/s eta 0:00:01\n",
      "   ---------------------------------------  1.5/1.5 MB 6.9 MB/s eta 0:00:01\n",
      "   ---------------------------------------- 1.5/1.5 MB 5.7 MB/s eta 0:00:00\n",
      "Downloading dataclasses_json-0.5.14-py3-none-any.whl (26 kB)\n",
      "Downloading langsmith-0.0.24-py3-none-any.whl (33 kB)\n",
      "Downloading pydantic-2.2.0-py3-none-any.whl (373 kB)\n",
      "   ---------------------------------------- 0.0/373.2 kB ? eta -:--:--\n",
      "   --------------------------------------  368.6/373.2 kB 22.4 MB/s eta 0:00:01\n",
      "   ---------------------------------------- 373.2/373.2 kB 4.6 MB/s eta 0:00:00\n",
      "Downloading pydantic_core-2.6.0-cp310-none-win_amd64.whl (1.8 MB)\n",
      "   ---------------------------------------- 0.0/1.8 MB ? eta -:--:--\n",
      "   ----------- ---------------------------- 0.5/1.8 MB 10.5 MB/s eta 0:00:01\n",
      "   ------------------------- -------------- 1.1/1.8 MB 11.7 MB/s eta 0:00:01\n",
      "   ----------------------------------- ---- 1.5/1.8 MB 8.9 MB/s eta 0:00:01\n",
      "   ---------------------------------------  1.8/1.8 MB 7.4 MB/s eta 0:00:01\n",
      "   ---------------------------------------- 1.8/1.8 MB 5.9 MB/s eta 0:00:00\n",
      "Downloading tenacity-8.2.3-py3-none-any.whl (24 kB)\n",
      "Downloading annotated_types-0.5.0-py3-none-any.whl (11 kB)\n",
      "Downloading marshmallow-3.20.1-py3-none-any.whl (49 kB)\n",
      "   ---------------------------------------- 0.0/49.4 kB ? eta -:--:--\n",
      "   ---------------------------------------- 49.4/49.4 kB 1.2 MB/s eta 0:00:00\n",
      "Using cached typing_extensions-4.7.1-py3-none-any.whl (33 kB)\n",
      "Using cached typing_inspect-0.9.0-py3-none-any.whl (8.8 kB)\n",
      "Installing collected packages: typing-extensions, tenacity, marshmallow, annotated-types, typing-inspect, pydantic-core, pydantic, dataclasses-json, openapi-schema-pydantic, langsmith, langchain\n",
      "  Attempting uninstall: typing-extensions\n",
      "    Found existing installation: typing_extensions 4.4.0\n",
      "    Uninstalling typing_extensions-4.4.0:\n",
      "      Successfully uninstalled typing_extensions-4.4.0\n",
      "  Attempting uninstall: tenacity\n",
      "    Found existing installation: tenacity 8.0.1\n",
      "    Uninstalling tenacity-8.0.1:\n",
      "      Successfully uninstalled tenacity-8.0.1\n",
      "Successfully installed annotated-types-0.5.0 dataclasses-json-0.5.14 langchain-0.0.267 langsmith-0.0.24 marshmallow-3.20.1 openapi-schema-pydantic-1.2.4 pydantic-2.2.0 pydantic-core-2.6.0 tenacity-8.2.3 typing-extensions-4.7.1 typing-inspect-0.9.0\n"
     ]
    }
   ],
   "source": [
    "!pip install langchain"
   ]
  },
  {
   "cell_type": "code",
   "execution_count": null,
   "id": "679e8b6e-c658-4183-a9e4-c938e799c488",
   "metadata": {
    "tags": []
   },
   "outputs": [],
   "source": [
    "from langchain.document_loaders import PyPDFLoader\n",
    "from langchain.chains import load_chain\n",
    "from langchain.vectorstores import FAISS\n",
    "from langchain.embeddings.openai import OpenAIEmbeddings\n",
    "from langchain.llms import OpenAI\n",
    "from langchain.chains.question_answering import load_qa_chain\n",
    "import os"
   ]
  },
  {
   "cell_type": "code",
   "execution_count": null,
   "id": "2007d312",
   "metadata": {},
   "outputs": [],
   "source": [
    "from gpt4all import GPT4All, Embed4All"
   ]
  },
  {
   "cell_type": "code",
   "execution_count": null,
   "id": "91e094ee-22c5-43cb-b31a-320d31b55e51",
   "metadata": {
    "tags": []
   },
   "outputs": [
    {
     "name": "stdout",
     "output_type": "stream",
     "text": [
      "Found model file at  C:\\\\\\\\Users\\\\\\\\I564583\\\\\\\\.cache\\\\\\\\gpt4all\\\\nous-hermes-13b.ggmlv3.q4_0.bin\n"
     ]
    }
   ],
   "source": [
    "model = GPT4All(\"nous-hermes-13b.ggmlv3.q4_0.bin\")"
   ]
  },
  {
   "cell_type": "code",
   "execution_count": null,
   "id": "4309138d-1d91-4be0-9004-d4a3239c5812",
   "metadata": {
    "tags": []
   },
   "outputs": [
    {
     "name": "stdout",
     "output_type": "stream",
     "text": [
      "Collecting pypdf\n",
      "  Obtaining dependency information for pypdf from https://files.pythonhosted.org/packages/06/f7/0a462dc4113271bfac2759e7c5ca57b1409a6c6f30013aa87fba8a725066/pypdf-3.15.1-py3-none-any.whl.metadata\n",
      "  Downloading pypdf-3.15.1-py3-none-any.whl.metadata (7.1 kB)\n",
      "Downloading pypdf-3.15.1-py3-none-any.whl (271 kB)\n",
      "   ---------------------------------------- 0.0/271.0 kB ? eta -:--:--\n",
      "   ------------ --------------------------- 81.9/271.0 kB 2.3 MB/s eta 0:00:01\n",
      "   ------------------------------ --------- 204.8/271.0 kB 3.1 MB/s eta 0:00:01\n",
      "   ---------------------------------------- 271.0/271.0 kB 2.8 MB/s eta 0:00:00\n",
      "Installing collected packages: pypdf\n",
      "Successfully installed pypdf-3.15.1\n"
     ]
    }
   ],
   "source": [
    "!pip install pypdf"
   ]
  },
  {
   "cell_type": "markdown",
   "id": "af097a8a",
   "metadata": {},
   "source": [
    "## Load the file using Langchain libraries\n",
    "Once you have the provided .pdf file, you need to load it into your Python environment using Langchain libraries. This will allow you to access the text data and perform operations such as text embedding.\n",
    "\n",
    "To load the file, you can use the PyPDFLoader function provided by LangChain. Here's an example code snippet:"
   ]
  },
  {
   "cell_type": "code",
   "execution_count": null,
   "id": "d5dfa034-7620-4632-8516-3d876a3ab356",
   "metadata": {
    "tags": []
   },
   "outputs": [],
   "source": [
    "loader = PyPDFLoader(\"Talk2AI.pdf\")\n",
    "pages = loader.load_and_split()"
   ]
  },
  {
   "cell_type": "code",
   "execution_count": null,
   "id": "717f095a-c292-4053-b5a9-94a501680f88",
   "metadata": {
    "tags": []
   },
   "outputs": [
    {
     "data": {
      "text/plain": [
       "Document(page_content='4.Complete the fields  in the Edit Resource Group  dialog box.\\na.Change the subaccount_id  value, if required.\\nb.Change the zone_id  value, if required.\\nc.Change the instance_id  value, if required.\\nd.If additional label changes are required, then change the label key or corresponding value.\\n5.Choose Edit  to save the changes to the resource group.\\n6.Optional: Y ou can also make changes to associated object store secrets. T o do so, view the resource group \\ndetails. Choose Add , Edit , or Remove  to change an object store secret for the resource group. See Edit an \\nObject Store Secret [page 109] and Remove an Object Store Secret [page 110].\\nResults\\nThe resource group is changed. The updated resource group appears on the All Resource Groups  screen.SAP AI Launchpad\\nUsing SAP AI Launchpad INTERNAL 101', metadata={'source': 'AILaunchpad.pdf', 'page': 100})"
      ]
     },
     "execution_count": 10,
     "metadata": {},
     "output_type": "execute_result"
    }
   ],
   "source": [
    "pages[100]"
   ]
  },
  {
   "cell_type": "code",
   "execution_count": null,
   "id": "8c3c9441-bd03-409f-9bd9-b246dbdbd01e",
   "metadata": {
    "tags": []
   },
   "outputs": [
    {
     "data": {
      "text/plain": [
       "272"
      ]
     },
     "execution_count": 11,
     "metadata": {},
     "output_type": "execute_result"
    }
   ],
   "source": [
    "len(pages)"
   ]
  },
  {
   "cell_type": "code",
   "execution_count": null,
   "id": "ac49c973-4164-4bd2-870b-45714daa900a",
   "metadata": {
    "tags": []
   },
   "outputs": [],
   "source": [
    "query = \"What is executable and their placeholders?\"\n",
    "# query = \"What is Launchpad?\""
   ]
  },
  {
   "cell_type": "markdown",
   "id": "b231692b",
   "metadata": {},
   "source": [
    "## Embedding\n",
    "To use text embeddings in your Python code, you can follow these steps:\n",
    "\n",
    "- Install the Langchain libraries if you haven't already.\n",
    "- Using FAISS"
   ]
  },
  {
   "cell_type": "code",
   "execution_count": null,
   "id": "87e5dcce",
   "metadata": {},
   "outputs": [],
   "source": [
    "from langchain.vectorstores import FAISS\n",
    "from langchain.embeddings.gpt4all import GPT4AllEmbeddings\n",
    "\n",
    "# create a FAISS index\n",
    "\n",
    "query = \"What is executable and their placeholders?\"  \n",
    "faiss_index = FAISS.from_documents(pages, GPT4AllEmbeddings())\n",
    "\n",
    "#get similar result from embeddings\n",
    "# your query embedding\n",
    "docs = faiss_index.similarity_search(query, k=1)"
   ]
  },
  {
   "cell_type": "markdown",
   "id": "cc8482e4",
   "metadata": {},
   "source": [
    "## Create GPT4ALL Model\n",
    "The langchain.llms module is a part of the LangChain platform and provides access to GPT4ALL's language models. To create a model, here's an example code snippet:\n",
    "\n",
    "You can refer to the source for more information. GPT4ALL\n",
    "\n",
    "The langchain.chains.question_answering module is probably a part of the LangChain platform and provides functionality for implementing question answering chains. To load a pre-trained question answering model, you can use the load_qa_chain function within the module. Here's an example code snippet:"
   ]
  },
  {
   "cell_type": "code",
   "execution_count": null,
   "id": "629929a2",
   "metadata": {},
   "outputs": [],
   "source": [
    "from langchain.llms import GPT4All\n",
    "from langchain.chains import load_chain\n",
    "from langchain.chains.question_answering import load_qa_chain"
   ]
  },
  {
   "cell_type": "code",
   "execution_count": null,
   "id": "60851274-7a9e-4b6c-9bfd-5e4580fe5dc1",
   "metadata": {
    "tags": []
   },
   "outputs": [],
   "source": [
    "def greet(query,temperature):\n",
    "    llm = GPT4All(model = \"orca-mini-3b.ggmlv3.q4_0.bin\")\n",
    "    chain = load_qa_chain(llm, chain_type=\"stuff\")\n",
    "    answer = chain.run(input_documents=docs, question=query)\n",
    "    return answer"
   ]
  },
  {
   "cell_type": "markdown",
   "id": "99489baf",
   "metadata": {},
   "source": [
    "## Creating an Interactive Dashboard\n",
    "Once Gradio is installed, you can create an interactive dashboard for your machine learning model using the Gradio interface. You can start by creating a function that takes input from the user and returns the output of your model. For example, let's say you have a function called 'greet' that takes query and returns the predicted result to that query. Here's how you can create an interactive dashboard for this function using Gradio:\n",
    "\n",
    "```import gradio as gr```"
   ]
  },
  {
   "cell_type": "code",
   "execution_count": null,
   "id": "65c00a63",
   "metadata": {},
   "outputs": [],
   "source": [
    "demo = gr.Interface(fn=greet,\n",
    "                    inputs=[gr.Textbox(lines=2, placeholder=\"Talk to your document...\"),gr.Slider(0.0, 1.0)],\n",
    "                    outputs=[gr.Textbox(label=\"Answer:\")]\n",
    "                   )"
   ]
  },
  {
   "cell_type": "code",
   "execution_count": 18,
   "id": "e927d876-9282-4053-a8e7-518a68e1e8f6",
   "metadata": {
    "tags": []
   },
   "outputs": [
    {
     "name": "stdout",
     "output_type": "stream",
     "text": [
      "Running on local URL:  http://127.0.0.1:7861\n",
      "\n",
      "To create a public link, set `share=True` in `launch()`.\n"
     ]
    },
    {
     "data": {
      "text/html": [
       "<div><iframe src=\"http://127.0.0.1:7861/\" width=\"100%\" height=\"500\" allow=\"autoplay; camera; microphone; clipboard-read; clipboard-write;\" frameborder=\"0\" allowfullscreen></iframe></div>"
      ],
      "text/plain": [
       "<IPython.core.display.HTML object>"
      ]
     },
     "metadata": {},
     "output_type": "display_data"
    },
    {
     "data": {
      "text/plain": []
     },
     "execution_count": 18,
     "metadata": {},
     "output_type": "execute_result"
    }
   ],
   "source": [
    "# deploy the interface\n",
    "\n",
    "demo.launch() "
   ]
  },
  {
   "attachments": {
    "image.png": {
     "image/png": "[encoded data removed]"
    }
   },
   "cell_type": "markdown",
   "id": "fab89f8d",
   "metadata": {},
   "source": [
    "![image.png](attachment:image.png)"
   ]
  }
 ],
 "metadata": {
  "kernelspec": {
   "display_name": "Python 3 (ipykernel)",
   "language": "python",
   "name": "python3"
  },
  "language_info": {
   "codemirror_mode": {
    "name": "ipython",
    "version": 3
   },
   "file_extension": ".py",
   "mimetype": "text/x-python",
   "name": "python",
   "nbconvert_exporter": "python",
   "pygments_lexer": "ipython3",
   "version": "3.10.9"
  }
 },
 "nbformat": 4,
 "nbformat_minor": 5
}
